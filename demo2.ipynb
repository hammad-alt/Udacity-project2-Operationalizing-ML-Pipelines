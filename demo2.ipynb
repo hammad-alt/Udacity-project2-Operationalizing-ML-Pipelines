{
 "cells": [
  {
   "cell_type": "code",
   "execution_count": 18,
   "metadata": {},
   "outputs": [],
   "source": [
    "from azureml.pipeline.core import PipelineRun\n",
    "from azureml.core import Workspace, Experiment\n",
    "ws = Workspace.from_config()\n",
    "\n",
    "experiment_name = 'ml-bike-experiment-1'\n",
    "project_folder = './pipeline-bike-project'\n",
    "\n",
    "experiment = Experiment(ws,experiment_name)\n",
    "\n",
    "run_id = 'f8b465ba-522b-449d-9bd5-ec6b224d0310'\n",
    "\n",
    "pipeline_run = PipelineRun(experiment, run_id)\n",
    "\n"
   ]
  },
  {
   "cell_type": "code",
   "execution_count": 20,
   "metadata": {},
   "outputs": [
    {
     "data": {
      "text/html": [
       "<table style=\"width:100%\"><tr><th>Name</th><th>Id</th><th>Status</th><th>Endpoint</th></tr><tr><td>Bikesharing Train</td><td><a href=\"https://ml.azure.com/pipelines/1d4fa18a-c54a-4984-9851-fefc7c4a91a8?wsid=/subscriptions/3929502f-a035-4029-a2f5-865565e57a0a/resourcegroups/aml-quickstarts-129650/workspaces/quick-starts-ws-129650\" target=\"_blank\" rel=\"noopener\">1d4fa18a-c54a-4984-9851-fefc7c4a91a8</a></td><td>Active</td><td><a href=\"https://southcentralus.api.azureml.ms/pipelines/v1.0/subscriptions/3929502f-a035-4029-a2f5-865565e57a0a/resourceGroups/aml-quickstarts-129650/providers/Microsoft.MachineLearningServices/workspaces/quick-starts-ws-129650/PipelineRuns/PipelineSubmit/1d4fa18a-c54a-4984-9851-fefc7c4a91a8\" target=\"_blank\" rel=\"noopener\">REST Endpoint</a></td></tr></table>"
      ],
      "text/plain": [
       "Pipeline(Name: Bikesharing Train,\n",
       "Id: 1d4fa18a-c54a-4984-9851-fefc7c4a91a8,\n",
       "Status: Active,\n",
       "Endpoint: https://southcentralus.api.azureml.ms/pipelines/v1.0/subscriptions/3929502f-a035-4029-a2f5-865565e57a0a/resourceGroups/aml-quickstarts-129650/providers/Microsoft.MachineLearningServices/workspaces/quick-starts-ws-129650/PipelineRuns/PipelineSubmit/1d4fa18a-c54a-4984-9851-fefc7c4a91a8)"
      ]
     },
     "execution_count": 20,
     "metadata": {},
     "output_type": "execute_result"
    }
   ],
   "source": [
    "published_pipeline = pipeline_run.publish_pipeline(name = \"Bikesharing Train\", description = \"Training Bikesharing pipeline\",\n",
    "                                                  version = \"1\")\n",
    "published_pipeline\n"
   ]
  },
  {
   "cell_type": "code",
   "execution_count": 24,
   "metadata": {},
   "outputs": [],
   "source": [
    "from azureml.core.authentication import InteractiveLoginAuthentication\n",
    "\n",
    "interactive_auth = InteractiveLoginAuthentication()\n",
    "auth_header = interactive_auth.get_authentication_header()"
   ]
  },
  {
   "cell_type": "code",
   "execution_count": 31,
   "metadata": {},
   "outputs": [],
   "source": [
    "import requests\n",
    "\n",
    "rest_endpoint = published_pipeline.endpoint\n",
    "response = requests.post(rest_endpoint,\n",
    "                        headers = auth_header,\n",
    "                        json = {\"ExperimentName\": \"pipeline-bike-rest-endpoint\"})"
   ]
  },
  {
   "cell_type": "code",
   "execution_count": 41,
   "metadata": {},
   "outputs": [
    {
     "name": "stdout",
     "output_type": "stream",
     "text": [
      "Submitted pipeline run:  23e0c30d-76f9-43ec-a4b7-4a74fd0f7144\n"
     ]
    }
   ],
   "source": [
    "try:\n",
    "    response.raise_for_status()\n",
    "except Exception:\n",
    "    raise Exception (\"Received bad response from the endpoint: {}\\n\"\n",
    "                    \"Response Code: {}\\n\"\n",
    "                    \"Headers: {}\\n\"\n",
    "                    \"Content: {}\".format(rest_endpoint, response.status_code, response.content\n",
    "                                        ))\n",
    "                     \n",
    "run_id = response.json().get('Id')\n",
    "print ('Submitted pipeline run: ',run_id)"
   ]
  },
  {
   "cell_type": "code",
   "execution_count": null,
   "metadata": {},
   "outputs": [],
   "source": []
  },
  {
   "cell_type": "code",
   "execution_count": null,
   "metadata": {},
   "outputs": [],
   "source": []
  }
 ],
 "metadata": {
  "kernelspec": {
   "display_name": "Python 3.6 - AzureML",
   "language": "python",
   "name": "python3-azureml"
  },
  "language_info": {
   "codemirror_mode": {
    "name": "ipython",
    "version": 3
   },
   "file_extension": ".py",
   "mimetype": "text/x-python",
   "name": "python",
   "nbconvert_exporter": "python",
   "pygments_lexer": "ipython3",
   "version": "3.6.9"
  }
 },
 "nbformat": 4,
 "nbformat_minor": 2
}
